{
 "cells": [
  {
   "cell_type": "code",
   "execution_count": 1,
   "metadata": {},
   "outputs": [],
   "source": [
    "from typing import List\n",
    "from pathlib import Path\n",
    "from datetime import datetime, UTC\n",
    "from concurrent.futures import ThreadPoolExecutor, as_completed\n",
    "\n",
    "import pandas as pd\n",
    "\n",
    "from binance_extras.manager import BinanceManager\n",
    "from binance_extras.searchs import SearchKLines\n",
    "from general_utils.coins import SymbolPairsEnum, IntervalKLineEnum, iter_all_symbol_interval\n",
    "from general_utils.time_utc import get_datetime_now, get_datetime\n",
    "from cripto_db.db_klines import DBKLines, CollectionKLines\n",
    "from cripto_trading.kline import KLine\n",
    "from general_utils.coins import SymbolPairsEnum, IntervalKLineEnum, get_collection_name\n",
    "\n",
    "bm = BinanceManager()\n",
    "db_klines = DBKLines()"
   ]
  },
  {
   "cell_type": "code",
   "execution_count": null,
   "metadata": {},
   "outputs": [],
   "source": [
    "#coll_klines = db_klines.get_collection(symbol, interval)\n",
    "#coll_kline.insert_klines(klines)"
   ]
  },
  {
   "cell_type": "code",
   "execution_count": null,
   "metadata": {},
   "outputs": [],
   "source": [
    "EXCLUDE = [\n",
    "    #get_collection_name(SymbolPairsEnum.BTCUSDT, IntervalKLineEnum.interval_1m),\n",
    "    #get_collection_name(SymbolPairsEnum.BTCUSDT, IntervalKLineEnum.interval_5m),\n",
    "    #get_collection_name(SymbolPairsEnum.BTCUSDT, IntervalKLineEnum.interval_1h),\n",
    "    #get_collection_name(SymbolPairsEnum.BTCUSDT, IntervalKLineEnum.interval_1d),\n",
    "]\n",
    "path_data = Path(\"data\")\n",
    "path_data_klines = path_data / \"klines\"\n",
    "path_data.mkdir(exist_ok=True)\n",
    "path_data_klines.mkdir(exist_ok=True)\n",
    "\n",
    "MAX_WORKERS = 100\n",
    "for symbol, interval in iter_all_symbol_interval(EXCLUDE):\n",
    "    if interval.value != \"1m\":\n",
    "        bm.download_save_klines(path_data_klines, symbol=symbol, interval=interval, max_workers=MAX_WORKERS)"
   ]
  },
  {
   "cell_type": "code",
   "execution_count": null,
   "metadata": {},
   "outputs": [],
   "source": []
  },
  {
   "cell_type": "code",
   "execution_count": null,
   "metadata": {},
   "outputs": [],
   "source": []
  },
  {
   "cell_type": "code",
   "execution_count": null,
   "metadata": {},
   "outputs": [],
   "source": []
  },
  {
   "cell_type": "code",
   "execution_count": null,
   "metadata": {},
   "outputs": [],
   "source": []
  },
  {
   "cell_type": "code",
   "execution_count": null,
   "metadata": {},
   "outputs": [],
   "source": [
    "date_i = get_datetime(2018)\n",
    "date_f = get_datetime_now()\n",
    "klines_total = []\n",
    "for klines in bm.iter_mark_price_klines(BTCUSDT, INTERVAL_1M, 1500, date_i, date_f):\n",
    "    klines_total.extend(klines)"
   ]
  },
  {
   "cell_type": "code",
   "execution_count": null,
   "metadata": {},
   "outputs": [],
   "source": [
    "from general_utils.time_utc import timestamp2datetime\n",
    "timestamp2datetime(1707004799999)"
   ]
  },
  {
   "cell_type": "code",
   "execution_count": null,
   "metadata": {},
   "outputs": [],
   "source": [
    "from general_utils.time_utc import get_timestamp_now, get_datetime_now\n",
    "date_now = get_datetime_now()\n",
    "s = SearchKLines(\n",
    "    symbol = SymbolPairsEnum.BTCUSDT,\n",
    "    interval = IntervalKLineEnum.interval_1m,\n",
    "    limit = 2,\n",
    "    start_time = 1707075300000#date_now - timedelta(minutes=5),\n",
    ")\n",
    "klines = bm.mark_price_klines(s, False)\n",
    "#klines[-1].model_dump()\n",
    "klines"
   ]
  },
  {
   "cell_type": "code",
   "execution_count": null,
   "metadata": {},
   "outputs": [],
   "source": [
    "import time\n",
    "\n",
    "t_last = datetime.fromtimestamp(klines[-1].time_close/1000, tz=UTC)\n",
    "while True:\n",
    "    t_now = datetime.now(tz=UTC)\n",
    "    if not(t_last > t_now):\n",
    "        display(t_last)\n",
    "        display(t_now)\n",
    "        print(\"-\"*20)\n",
    "        time.sleep(1)\n"
   ]
  }
 ],
 "metadata": {
  "kernelspec": {
   "display_name": "env",
   "language": "python",
   "name": "python3"
  },
  "language_info": {
   "codemirror_mode": {
    "name": "ipython",
    "version": 3
   },
   "file_extension": ".py",
   "mimetype": "text/x-python",
   "name": "python",
   "nbconvert_exporter": "python",
   "pygments_lexer": "ipython3",
   "version": "3.12.4"
  }
 },
 "nbformat": 4,
 "nbformat_minor": 2
}
