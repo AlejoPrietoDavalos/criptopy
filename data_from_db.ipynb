{
 "cells": [
  {
   "cell_type": "code",
   "execution_count": 1,
   "metadata": {},
   "outputs": [],
   "source": [
    "from cripto_db.db_klines import DBKLines\n",
    "from general_utils.coins import SymbolPairsEnum, IntervalKLineEnum\n",
    "\n",
    "db_klines = DBKLines()"
   ]
  },
  {
   "cell_type": "code",
   "execution_count": 8,
   "metadata": {},
   "outputs": [],
   "source": [
    "from pathlib import Path\n",
    "\n",
    "import pandas as pd\n",
    "\n",
    "def down_klines_and_save_df(\n",
    "        db_klines: DBKLines,\n",
    "        symbol: SymbolPairsEnum,\n",
    "        interval: IntervalKLineEnum,\n",
    "        path_folder_out: Path\n",
    "    ) -> None:\n",
    "    symbol = SymbolPairsEnum(symbol)\n",
    "    interval = IntervalKLineEnum(interval)\n",
    "    path_out = path_folder_out / f\"{symbol.value}_{interval.value}.csv\"\n",
    "    coll_klines = db_klines.get_collection(symbol, interval)\n",
    "    pd.DataFrame((kline_doc for kline_doc in coll_klines.find_klines())).to_csv(path_out)\n",
    "\n",
    "path_data = Path(\"data\")\n",
    "down_klines_and_save_df(db_klines, SymbolPairsEnum.BTCUSDT, IntervalKLineEnum.interval_5m, path_data)"
   ]
  }
 ],
 "metadata": {
  "kernelspec": {
   "display_name": "env",
   "language": "python",
   "name": "python3"
  },
  "language_info": {
   "codemirror_mode": {
    "name": "ipython",
    "version": 3
   },
   "file_extension": ".py",
   "mimetype": "text/x-python",
   "name": "python",
   "nbconvert_exporter": "python",
   "pygments_lexer": "ipython3",
   "version": "3.11.6"
  }
 },
 "nbformat": 4,
 "nbformat_minor": 2
}
