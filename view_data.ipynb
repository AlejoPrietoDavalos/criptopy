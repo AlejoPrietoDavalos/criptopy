{
 "cells": [
  {
   "cell_type": "code",
   "execution_count": null,
   "metadata": {},
   "outputs": [],
   "source": [
    "from datetime import datetime, UTC\n",
    "\n",
    "import plotly.graph_objects as go\n",
    "\n",
    "import pandas as pd\n",
    "\n",
    "df = pd.read_csv(\"data/BTCUSDT_1d.csv\")\n",
    "df[\"date_open\"] = df[\"time_open\"].apply(lambda t: datetime.fromtimestamp(t/1000, tz=UTC))\n",
    "\n",
    "fig = go.Figure(data=[go.Candlestick(x=df['date_open'],\n",
    "                open=df['price_open'],\n",
    "                high=df['price_high'],\n",
    "                low=df['price_low'],\n",
    "                close=df['price_close'])])\n",
    "\n",
    "fig.show()"
   ]
  },
  {
   "cell_type": "code",
   "execution_count": null,
   "metadata": {},
   "outputs": [],
   "source": [
    "nbformat"
   ]
  },
  {
   "cell_type": "code",
   "execution_count": null,
   "metadata": {},
   "outputs": [],
   "source": []
  },
  {
   "cell_type": "code",
   "execution_count": null,
   "metadata": {},
   "outputs": [],
   "source": [
    "import plotly.graph_objects as go\n",
    "\n",
    "import pandas as pd\n",
    "from datetime import datetime\n",
    "\n",
    "\n",
    "fig = go.Figure(data=[go.Candlestick(x=df['Date'],\n",
    "                open=df['AAPL.Open'],\n",
    "                high=df['AAPL.High'],\n",
    "                low=df['AAPL.Low'],\n",
    "                close=df['AAPL.Close'])])\n",
    "\n",
    "fig.show()"
   ]
  },
  {
   "cell_type": "code",
   "execution_count": null,
   "metadata": {},
   "outputs": [],
   "source": [
    "from datetime import datetime, UTC\n",
    "\n",
    "df = pd.read_csv(\"data/BTCUSDT_1d.csv\")\n",
    "\n",
    "cols_rename = {\n",
    "    \"price_open\": \"Open\",\n",
    "    \"price_low\": \"Low\",\n",
    "    \"price_high\": \"High\",\n",
    "    \"price_close\": \"Close\",\n",
    "}\n",
    "df_renamed = df.rename(cols_rename, axis=1)\n",
    "df_renamed[\"date_open\"] = pd.to_datetime(df_renamed[\"time_open\"], unit='ms', utc=True)\n",
    "df_renamed = df_renamed.set_index(\"date_open\")\n",
    "mpf.plot(df_renamed)"
   ]
  }
 ],
 "metadata": {
  "kernelspec": {
   "display_name": "env",
   "language": "python",
   "name": "python3"
  },
  "language_info": {
   "codemirror_mode": {
    "name": "ipython",
    "version": 3
   },
   "file_extension": ".py",
   "mimetype": "text/x-python",
   "name": "python",
   "nbconvert_exporter": "python",
   "pygments_lexer": "ipython3",
   "version": "3.11.6"
  }
 },
 "nbformat": 4,
 "nbformat_minor": 2
}
